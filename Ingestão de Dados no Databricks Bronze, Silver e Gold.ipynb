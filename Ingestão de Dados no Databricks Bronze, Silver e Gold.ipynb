{
 "cells": [
  {
   "cell_type": "code",
   "execution_count": 0,
   "metadata": {
    "application/vnd.databricks.v1+cell": {
     "cellMetadata": {
      "byteLimit": 2048000,
      "rowLimit": 10000
     },
     "inputWidgets": {},
     "nuid": "44e67235-bfa9-4f2e-a32b-f30209950d1c",
     "showTitle": false,
     "title": ""
    }
   },
   "outputs": [],
   "source": [
    "#Importando as bibliotecas que serão utilizadas no notebook\n",
    "import pandas as pd\n",
    "from pyspark.sql import SparkSession\n",
    "from pyspark.sql.functions import *\n",
    "from pyspark.sql.types import StructType, StructField, StringType, TimestampType, DoubleType, IntegerType"
   ]
  },
  {
   "cell_type": "code",
   "execution_count": 0,
   "metadata": {
    "application/vnd.databricks.v1+cell": {
     "cellMetadata": {
      "byteLimit": 2048000,
      "rowLimit": 10000
     },
     "inputWidgets": {},
     "nuid": "b322e82e-d3b6-467b-9a1f-29af97375891",
     "showTitle": false,
     "title": ""
    }
   },
   "outputs": [],
   "source": [
    "\n",
    "#Criando um sessão so spark para carregar os dados CSV\n",
    "spark = SparkSession.builder.appName(\"olist-analysis\").getOrCreate()"
   ]
  },
  {
   "cell_type": "code",
   "execution_count": 0,
   "metadata": {
    "application/vnd.databricks.v1+cell": {
     "cellMetadata": {
      "byteLimit": 2048000,
      "rowLimit": 10000
     },
     "inputWidgets": {},
     "nuid": "3a4f7d6d-5495-445d-b1b4-3a7f008b5d35",
     "showTitle": false,
     "title": ""
    }
   },
   "outputs": [],
   "source": [
    "\n",
    "#Definindo o path das camadas do Lakehouse\n",
    "pathRaw = \"dbfs:/FileStore/project/olist/raw\"\n",
    "pathBronze = \"dbfs:/FileStore/project/olist/bronze\"\n",
    "pathSilver = \"dbfs:/FileStore/project/olist/silver\"\n",
    "pathGold = \"dbfs:/FileStore/project/olist/gold\""
   ]
  },
  {
   "cell_type": "code",
   "execution_count": 0,
   "metadata": {
    "application/vnd.databricks.v1+cell": {
     "cellMetadata": {
      "byteLimit": 2048000,
      "rowLimit": 10000
     },
     "inputWidgets": {},
     "nuid": "89f0058a-8467-4b5c-b016-28909268faa5",
     "showTitle": false,
     "title": ""
    }
   },
   "outputs": [],
   "source": [
    "#Carrega os CSVs nos DataFrames\n",
    "\n",
    "link_csv_customers = \"https://raw.githubusercontent.com/olist/work-at-olist-data/master/datasets/olist_customers_dataset.csv\"\n",
    "link_csv_geolocation = \"https://raw.githubusercontent.com/olist/work-at-olist-data/master/datasets/olist_geolocation_dataset.csv\"\n",
    "link_csv_order_items = \"https://raw.githubusercontent.com/olist/work-at-olist-data/master/datasets/olist_order_items_dataset.csv\"\n",
    "link_csv_order_payments = \"https://raw.githubusercontent.com/olist/work-at-olist-data/master/datasets/olist_order_payments_dataset.csv\"\n",
    "link_csv_order_reviews = \"https://raw.githubusercontent.com/olist/work-at-olist-data/master/datasets/olist_order_reviews_dataset.csv\"\n",
    "link_csv_orders = \"https://raw.githubusercontent.com/olist/work-at-olist-data/master/datasets/olist_orders_dataset.csv\"\n",
    "link_csv_products = \"https://raw.githubusercontent.com/olist/work-at-olist-data/master/datasets/olist_products_dataset.csv\"\n",
    "link_csv_sellers = \"https://raw.githubusercontent.com/olist/work-at-olist-data/master/datasets/olist_sellers_dataset.csv\"\n",
    "link_csv_category = \"https://raw.githubusercontent.com/olist/work-at-olist-data/master/datasets/product_category_name_translation.csv\"\n",
    "\n",
    "df_customers = (\n",
    "            spark.createDataFrame(\n",
    "            pd.read_csv(link_csv_customers)\n",
    "            )\n",
    ")\n",
    "\n",
    "df_geolocation = (\n",
    "                spark.createDataFrame(\n",
    "                pd.read_csv(link_csv_geolocation)\n",
    "                )\n",
    ")\n",
    "\n",
    "df_order_items = (\n",
    "                spark.createDataFrame(\n",
    "                pd.read_csv(link_csv_order_items)\n",
    "                )\n",
    ")\n",
    "\n",
    "df_order_payments = (\n",
    "                spark.createDataFrame(\n",
    "                pd.read_csv(link_csv_order_payments)\n",
    "                )\n",
    ")\n",
    "\n",
    "df_order_reviews = (\n",
    "                spark.createDataFrame(\n",
    "                pd.read_csv(link_csv_order_reviews)\n",
    "                )\n",
    ")\n",
    "\n",
    "df_orders = (\n",
    "                spark.createDataFrame(\n",
    "                pd.read_csv(link_csv_orders)\n",
    "                )\n",
    ")\n",
    "\n",
    "df_products = (\n",
    "                spark.createDataFrame(\n",
    "                pd.read_csv(link_csv_products)\n",
    "                )\n",
    ")\n",
    "\n",
    "df_sellers = (\n",
    "                spark.createDataFrame(\n",
    "                pd.read_csv(link_csv_sellers)\n",
    "                )\n",
    ")\n",
    "\n",
    "df_category = (\n",
    "                spark.createDataFrame(\n",
    "                pd.read_csv(link_csv_category)\n",
    "                )\n",
    ")"
   ]
  },
  {
   "cell_type": "code",
   "execution_count": 0,
   "metadata": {
    "application/vnd.databricks.v1+cell": {
     "cellMetadata": {
      "byteLimit": 2048000,
      "rowLimit": 10000
     },
     "inputWidgets": {},
     "nuid": "c703661d-e784-4325-a635-731f546465d0",
     "showTitle": false,
     "title": ""
    }
   },
   "outputs": [],
   "source": [
    "# Salva os CSVs na camada Raw\n",
    "(\n",
    "df_customers\n",
    "    .write\n",
    "    .format(\"csv\")\n",
    "    .mode(\"overwrite\")\n",
    "    .save(f\"{pathRaw}/customers/customers.csv\")\n",
    ")\n",
    "\n",
    "(\n",
    "df_geolocation\n",
    "    .write\n",
    "    .format(\"csv\")\n",
    "    .mode(\"overwrite\")\n",
    "    .save(f\"{pathRaw}/geolocation/geolocation.csv\")\n",
    ")\n",
    "\n",
    "(\n",
    "df_order_items\n",
    "    .write\n",
    "    .format(\"csv\")\n",
    "    .mode(\"overwrite\")\n",
    "    .save(f\"{pathRaw}/order_items/order_items.csv\")\n",
    ")\n",
    "\n",
    "(\n",
    "df_order_payments\n",
    "    .write\n",
    "    .format(\"csv\")\n",
    "    .mode(\"overwrite\")\n",
    "    .save(f\"{pathRaw}/order_payments/order_payments.csv\")\n",
    ")\n",
    "\n",
    "(\n",
    "df_order_reviews\n",
    "    .write\n",
    "    .format(\"csv\")\n",
    "    .mode(\"overwrite\")\n",
    "    .save(f\"{pathRaw}/order_reviews/order_reviews.csv\")\n",
    ")\n",
    "\n",
    "(\n",
    "df_orders\n",
    "    .write\n",
    "    .format(\"csv\")\n",
    "    .mode(\"overwrite\")\n",
    "    .save(f\"{pathRaw}/orders/orders.csv\")\n",
    ")\n",
    "\n",
    "(\n",
    "df_products\n",
    "    .write\n",
    "    .format(\"csv\")\n",
    "    .mode(\"overwrite\")\n",
    "    .save(f\"{pathRaw}/products/products.csv\")\n",
    ")\n",
    "\n",
    "(\n",
    "df_sellers\n",
    "    .write\n",
    "    .format(\"csv\")\n",
    "    .mode(\"overwrite\")\n",
    "    .save(f\"{pathRaw}/sellers/sellers.csv\")\n",
    ")\n",
    "\n",
    "(\n",
    "df_category\n",
    "    .write\n",
    "    .format(\"csv\")\n",
    "    .mode(\"overwrite\")\n",
    "    .save(f\"{pathRaw}/category/category.csv\")\n",
    ")"
   ]
  },
  {
   "cell_type": "code",
   "execution_count": 0,
   "metadata": {
    "application/vnd.databricks.v1+cell": {
     "cellMetadata": {
      "byteLimit": 2048000,
      "rowLimit": 10000
     },
     "inputWidgets": {},
     "nuid": "a714937b-acf4-4325-9a26-0aa024531a25",
     "showTitle": false,
     "title": ""
    }
   },
   "outputs": [],
   "source": [
    "#Definindo os schemas das tabelas para camada Bronze\n",
    "\n",
    "customers_schema = (\n",
    "                    StructType([\n",
    "                        StructField(\"customerId\", StringType(), True),\n",
    "                        StructField(\"customerUniqueId\", StringType(), True),\n",
    "                        StructField(\"customerZipCodePrefix\", StringType(), True),\n",
    "                        StructField(\"customerCity\", StringType(), True),\n",
    "                        StructField(\"customerState\", StringType(), True),\n",
    "                                ])\n",
    ")\n",
    "\n",
    "geolocation_schema = (\n",
    "                    StructType([\n",
    "                        StructField(\"geolocationCodePrefix\", StringType(), True),\n",
    "                        StructField(\"geolocationLat\", StringType(), True),\n",
    "                        StructField(\"geolocationLng\", StringType(), True),\n",
    "                        StructField(\"geolocationCity\", StringType(), True),\n",
    "                        StructField(\"geolocationState\", StringType(), True),\n",
    "                    ])\n",
    ")\n",
    "\n",
    "order_items_schema = (\n",
    "                    StructType([\n",
    "                        StructField(\"orderId\", StringType(), True),\n",
    "                        StructField(\"orderItemId\", StringType(), True),\n",
    "                        StructField(\"productId\", StringType(), True),\n",
    "                        StructField(\"sellerId\", StringType(), True),\n",
    "                        StructField(\"shippingLimitDate\", TimestampType(), True),\n",
    "                        StructField(\"price\", DoubleType(), True),\n",
    "                        StructField(\"freightValue\", DoubleType(), True),\n",
    "                    ])\n",
    ")\n",
    "\n",
    "order_payments_schema = (\n",
    "                    StructType([\n",
    "                        StructField(\"orderId\", StringType(), True),\n",
    "                        StructField(\"paymentSequential\", StringType(), True),\n",
    "                        StructField(\"paymentType\", StringType(), True),\n",
    "                        StructField(\"paymentInstallments\", StringType(), True),\n",
    "                        StructField(\"paymentValue\", DoubleType(), True),\n",
    "                    ])\n",
    ")\n",
    "\n",
    "order_reviews_schema = (\n",
    "                    StructType([\n",
    "                        StructField(\"reviewId\", StringType(), True),\n",
    "                        StructField(\"orderId\", StringType(), True),\n",
    "                        StructField(\"reviewScore\", StringType(), True),\n",
    "                        StructField(\"reviewCommentTitle\", StringType(), True),\n",
    "                        StructField(\"reviewCommentMessage\", IntegerType(), True),\n",
    "                        StructField(\"reviewCreationDate\", TimestampType(), True),\n",
    "                        StructField(\"reviewAnswerTimestamp\", TimestampType(), True),\n",
    "                    ])\n",
    ")\n",
    "\n",
    "orders_schema = (\n",
    "                    StructType([\n",
    "                        StructField(\"orderId\", StringType(), True),\n",
    "                        StructField(\"customerId\", StringType(), True),\n",
    "                        StructField(\"orderStatus\", StringType(), True),\n",
    "                        StructField(\"orderPurchaseTimestamp\", TimestampType(), True),\n",
    "                        StructField(\"orderApprovedAt\", TimestampType(), True),\n",
    "                        StructField(\"orderDeliveredCarrierDate\", TimestampType(), True),\n",
    "                        StructField(\"orderDeliveredCustomerDate\", TimestampType(), True),\n",
    "                        StructField(\"orderEstimatedDeliveryDate\", TimestampType(), True),\n",
    "                    ])\n",
    ")\n",
    "\n",
    "products_schema = (\n",
    "                    StructType([\n",
    "                        StructField(\"productId\", StringType(), True),\n",
    "                        StructField(\"productCategoryName\", StringType(), True),\n",
    "                        StructField(\"productNameLenght\", IntegerType(), True),\n",
    "                        StructField(\"productDescriptionLenght\", IntegerType(), True),\n",
    "                        StructField(\"productPhotosQty\", IntegerType(), True),\n",
    "                        StructField(\"productWeight_g\", IntegerType(), True),\n",
    "                        StructField(\"productLength_cm\", IntegerType(), True),\n",
    "                        StructField(\"productHeight_cm\", IntegerType(), True),\n",
    "                        StructField(\"productWidth_cm\", IntegerType(), True),\n",
    "                    ])\n",
    ")\n",
    "\n",
    "sellers_schema = (\n",
    "                    StructType([\n",
    "                        StructField(\"sellerId\", StringType(), True),\n",
    "                        StructField(\"sellerCodePrefix\", StringType(), True),\n",
    "                        StructField(\"sellerCity\", StringType(), True),\n",
    "                        StructField(\"sellerState\", StringType(), True),\n",
    "                    ])\n",
    ")\n",
    "\n",
    "category_schema = (\n",
    "                    StructType([\n",
    "                        StructField(\"productCategory\", StringType(), True),\n",
    "                        StructField(\"productCategoryNameEnglish\", StringType(), True),\n",
    "                    ])\n",
    ")"
   ]
  },
  {
   "cell_type": "code",
   "execution_count": 0,
   "metadata": {
    "application/vnd.databricks.v1+cell": {
     "cellMetadata": {
      "byteLimit": 2048000,
      "rowLimit": 10000
     },
     "inputWidgets": {},
     "nuid": "d649bde6-976e-4f40-b7fc-17749816e0dd",
     "showTitle": false,
     "title": ""
    }
   },
   "outputs": [],
   "source": [
    "# Aplicando os Schemas e Carregando os dados na camada bronze\n",
    "\n",
    "#Customers\n",
    "df_customersBronze = (\n",
    "    spark\n",
    "    .read\n",
    "    .format(\"csv\")\n",
    "    .schema(customers_schema)\n",
    "    .load(f\"{pathRaw}/customers/customers.csv\")\n",
    "    .withColumn(\"DataRawLoad\", current_timestamp())\n",
    ")\n",
    "\n",
    "(\n",
    "    df_customersBronze\n",
    "    .write\n",
    "    .format(\"delta\")\n",
    "    .mode(\"append\")\n",
    "    .save(f\"{pathBronze}/customers\")\n",
    ")\n",
    "\n",
    "#Geolocation\n",
    "df_geolocationBronze = (\n",
    "                spark\n",
    "                .read\n",
    "                .format(\"csv\")\n",
    "                .schema(geolocation_schema)\n",
    "                .load(f\"{pathRaw}/geolocation/geolocation.csv\")\n",
    "                .withColumn(\"DataRawLoad\", current_timestamp())\n",
    ")\n",
    "\n",
    "(\n",
    "    df_geolocationBronze\n",
    "    .write\n",
    "    .format(\"delta\")\n",
    "    .mode(\"append\")\n",
    "    .save(f\"{pathBronze}/geolocation\")\n",
    ")\n",
    "\n",
    "#Ordem_Items\n",
    "df_order_itemsBronze = (\n",
    "                spark\n",
    "                .read\n",
    "                .format(\"csv\")\n",
    "                .schema(order_items_schema)\n",
    "                .load(f\"{pathRaw}/order_items/order_items.csv\")\n",
    "                .withColumn(\"DataRawLoad\", current_timestamp())\n",
    ")\n",
    "\n",
    "(\n",
    "    df_order_itemsBronze\n",
    "    .write\n",
    "    .format(\"delta\")\n",
    "    .mode(\"append\")\n",
    "    .save(f\"{pathBronze}/order_items\")\n",
    ")\n",
    "\n",
    "#Order_payments\n",
    "df_order_paymentsBronze = (\n",
    "    spark\n",
    "    .read\n",
    "    .format(\"csv\")\n",
    "    .schema(order_payments_schema)\n",
    "    .load(f\"{pathRaw}/order_payments/order_payments.csv\")\n",
    "    .withColumn(\"DataRawLoad\", current_timestamp())\n",
    ")\n",
    "(\n",
    "    df_order_paymentsBronze\n",
    "        .write\n",
    "        .format(\"delta\")\n",
    "        .mode(\"append\")\n",
    "        .save(f\"{pathBronze}/order_payments\")\n",
    ")\n",
    "\n",
    "# Order_reviews\n",
    "df_order_reviewsBronze = (\n",
    "    spark\n",
    "    .read\n",
    "    .format(\"csv\")\n",
    "    .schema(order_reviews_schema)\n",
    "    .load(f\"{pathRaw}/order_reviews/order_reviews.csv\")\n",
    "    .withColumn(\"DataRawLoad\", current_timestamp())\n",
    ")\n",
    "(\n",
    "    df_order_reviewsBronze\n",
    "        .write\n",
    "        .format(\"delta\")\n",
    "        .mode(\"append\")\n",
    "        .save(f\"{pathBronze}/order_reviews\")\n",
    ")\n",
    "\n",
    "# Orders\n",
    "df_ordersBronze = (\n",
    "    spark\n",
    "    .read\n",
    "    .format(\"csv\")\n",
    "    .schema(orders_schema)\n",
    "    .load(f\"{pathRaw}/orders/orders.csv\")\n",
    "    .withColumn(\"DataRawLoad\", current_timestamp())\n",
    ")\n",
    "(\n",
    "    df_ordersBronze\n",
    "        .write\n",
    "        .format(\"delta\")\n",
    "        .mode(\"append\")\n",
    "        .save(f\"{pathBronze}/orders\")\n",
    ")\n",
    "\n",
    "# Products\n",
    "df_productsBronze = (\n",
    "    spark\n",
    "    .read\n",
    "    .format(\"csv\")\n",
    "    .schema(products_schema)\n",
    "    .load(f\"{pathRaw}/products/products.csv\")\n",
    "    .withColumn(\"DataRawLoad\", current_timestamp())\n",
    ")\n",
    "(\n",
    "    df_productsBronze\n",
    "        .write\n",
    "        .format(\"delta\")\n",
    "        .mode(\"append\")\n",
    "        .save(f\"{pathBronze}/products\")\n",
    ")\n",
    "\n",
    "# Sellers\n",
    "df_sellersBronze = (\n",
    "    spark\n",
    "    .read\n",
    "    .format(\"csv\")\n",
    "    .schema(sellers_schema)\n",
    "    .load(f\"{pathRaw}/sellers/sellers.csv\")\n",
    "    .withColumn(\"DataRawLoad\", current_timestamp())\n",
    ")\n",
    "(\n",
    "    df_sellersBronze\n",
    "        .write\n",
    "        .format(\"delta\")\n",
    "        .mode(\"append\")\n",
    "        .save(f\"{pathBronze}/sellers\")\n",
    ")\n",
    "\n",
    "# Category\n",
    "df_categoryBronze = (\n",
    "    spark\n",
    "    .read\n",
    "    .format(\"csv\")\n",
    "    .schema(category_schema)\n",
    "    .load(f\"{pathRaw}/category/category.csv\")\n",
    "    .withColumn(\"DataRawLoad\", current_timestamp())\n",
    ")\n",
    "(\n",
    "    df_categoryBronze\n",
    "        .write\n",
    "        .format(\"delta\")\n",
    "        .mode(\"append\")\n",
    "        .option(\"mergeSchema\", \"true\")\n",
    "        .save(f\"{pathBronze}/category\")\n",
    ")\n",
    "     "
   ]
  },
  {
   "cell_type": "code",
   "execution_count": 0,
   "metadata": {
    "application/vnd.databricks.v1+cell": {
     "cellMetadata": {
      "byteLimit": 2048000,
      "rowLimit": 10000
     },
     "inputWidgets": {},
     "nuid": "9d575a51-813b-4e55-aa2a-afc19d003ddf",
     "showTitle": false,
     "title": ""
    }
   },
   "outputs": [],
   "source": [
    "# Carregando dados na Camada Silver\n",
    "\n",
    "#Customers data\n",
    "customersSilver = (\n",
    "    spark.sql(f'''\n",
    "       SELECT\n",
    "            customerId,\n",
    "            customerUniqueId,\n",
    "            customerZipCodePrefix,\n",
    "            customerCity,\n",
    "            customerState,\n",
    "            CAST(DataRawLoad AS TIMESTAMP) AS DataRawLoad\n",
    "       FROM\n",
    "          (\n",
    "            SELECT \n",
    "                DENSE_RANK() OVER(ORDER BY DataRawLoad DESC) AS rank, * \n",
    "            FROM delta.`{pathBronze}/customers`\n",
    "          ) AS C\n",
    "       WHERE\n",
    "            C.rank = 1\n",
    "       ''')\n",
    ")\n",
    "(\n",
    "    customersSilver\n",
    "     .write\n",
    "     .format(\"delta\")\n",
    "     .mode(\"overwrite\")\n",
    "     .save(f\"{pathSilver}/customers\")\n",
    ")\n",
    "\n",
    "# Geolocation\n",
    "geolocationSilver = (\n",
    "    spark.sql(f'''\n",
    "       SELECT\n",
    "            geolocationCodePrefix,\n",
    "            geolocationLat,\n",
    "            geolocationLng,\n",
    "            geolocationCity,\n",
    "            geolocationState,\n",
    "            CAST(DataRawLoad AS TIMESTAMP) AS DataRawLoad\n",
    "       FROM\n",
    "          (\n",
    "            SELECT \n",
    "                DENSE_RANK() OVER(ORDER BY DataRawLoad DESC) AS rank, * \n",
    "            FROM delta.`{pathBronze}/geolocation`\n",
    "          ) AS G\n",
    "       WHERE\n",
    "            G.rank = 1\n",
    "       ''')\n",
    ")\n",
    "(\n",
    "geolocationSilver\n",
    "    .write\n",
    "    .format(\"delta\")\n",
    "    .mode(\"overwrite\")\n",
    "    .save(f\"{pathSilver}/geolocation\")\n",
    ")\n",
    "\n",
    "# Order_items\n",
    "order_itemsSilver = (\n",
    "    spark.sql(f'''\n",
    "       SELECT\n",
    "            orderId,\n",
    "            orderItemId,\n",
    "            productId,\n",
    "            sellerId,\n",
    "            shippingLimitDate,\n",
    "            price,\n",
    "            freightValue,\n",
    "            CAST(DataRawLoad AS TIMESTAMP) AS DataRawLoad\n",
    "       FROM\n",
    "          (\n",
    "            SELECT \n",
    "                DENSE_RANK() OVER(ORDER BY DataRawLoad DESC) AS rank, * \n",
    "            FROM delta.`{pathBronze}/order_items`\n",
    "          ) AS O\n",
    "       WHERE\n",
    "            O.rank = 1\n",
    "       ''')\n",
    ")\n",
    "(\n",
    "order_itemsSilver\n",
    "    .write\n",
    "    .format(\"delta\")\n",
    "    .mode(\"overwrite\")\n",
    "    .save(f\"{pathSilver}/order_items\")\n",
    ")\n",
    "\n",
    "# Order Payments\n",
    "order_paymentsSilver = (\n",
    "    spark.sql(f'''\n",
    "       SELECT\n",
    "            orderId,\n",
    "            paymentSequential,\n",
    "            paymentType,\n",
    "            paymentInstallments,\n",
    "            paymentValue,\n",
    "            CAST(DataRawLoad AS TIMESTAMP) AS DataRawLoad\n",
    "       FROM\n",
    "          (\n",
    "            SELECT \n",
    "                DENSE_RANK() OVER(ORDER BY DataRawLoad DESC) AS rank, * \n",
    "            FROM delta.`{pathBronze}/order_payments`\n",
    "          ) AS T\n",
    "       WHERE\n",
    "            T.rank = 1\n",
    "       ''')\n",
    ")\n",
    "(\n",
    "order_paymentsSilver\n",
    "    .write\n",
    "    .format(\"delta\")\n",
    "    .mode(\"overwrite\")\n",
    "    .save(f\"{pathSilver}/order_payments\")\n",
    ")\n",
    "\n",
    "order_reviewsSilver = (\n",
    "    spark.sql(f'''\n",
    "       SELECT\n",
    "            reviewId,\n",
    "            orderId,\n",
    "            reviewScore,\n",
    "            reviewCommentTitle,\n",
    "            reviewCommentMessage,\n",
    "            reviewCreationDate,\n",
    "            reviewAnswerTimestamp,\n",
    "            CAST(DataRawLoad AS TIMESTAMP) AS DataRawLoad\n",
    "       FROM\n",
    "          (\n",
    "            SELECT \n",
    "                DENSE_RANK() OVER(ORDER BY DataRawLoad DESC) AS rank, * \n",
    "            FROM delta.`{pathBronze}/order_reviews`\n",
    "          ) AS R\n",
    "       WHERE\n",
    "            R.rank = 1\n",
    "       ''')\n",
    ")\n",
    "(\n",
    "order_reviewsSilver\n",
    "    .write\n",
    "    .format(\"delta\")\n",
    "    .mode(\"overwrite\")\n",
    "    .save(f\"{pathSilver}/order_reviews\")\n",
    ")\n",
    "\n",
    "# Orders\n",
    "ordersSilver = (\n",
    "    spark.sql(f'''\n",
    "       SELECT\n",
    "            orderId,\n",
    "            customerId,\n",
    "            orderStatus,\n",
    "            orderPurchaseTimestamp,\n",
    "            orderApprovedAt,\n",
    "            orderDeliveredCarrierDate,\n",
    "            orderDeliveredCustomerDate,\n",
    "            orderEstimatedDeliveryDate,\n",
    "            CAST(DataRawLoad AS TIMESTAMP) AS DataRawLoad\n",
    "       FROM\n",
    "          (\n",
    "            SELECT \n",
    "                DENSE_RANK() OVER(ORDER BY DataRawLoad DESC) AS rank, * \n",
    "            FROM delta.`{pathBronze}/orders`\n",
    "          ) AS O\n",
    "       WHERE\n",
    "            O.rank = 1\n",
    "       ''')\n",
    ")\n",
    "(\n",
    "ordersSilver\n",
    "    .write\n",
    "    .format(\"delta\")\n",
    "    .mode(\"overwrite\")\n",
    "    .save(f\"{pathSilver}/orders\")\n",
    ")\n",
    "\n",
    "# Products\n",
    "productsSilver = (\n",
    "    spark.sql(f'''\n",
    "       SELECT\n",
    "            productId,\n",
    "            productCategoryName,\n",
    "            productNameLenght,\n",
    "            productDescriptionLenght,\n",
    "            productPhotosQty,\n",
    "            productWeight_g,\n",
    "            productLength_cm,\n",
    "            productHeight_cm,\n",
    "            productWidth_cm,\n",
    "            CAST(DataRawLoad AS TIMESTAMP) AS DataRawLoad\n",
    "       FROM\n",
    "          (\n",
    "            SELECT \n",
    "                DENSE_RANK() OVER(ORDER BY DataRawLoad DESC) AS rank, * \n",
    "            FROM delta.`{pathBronze}/products`\n",
    "           ) AS P\n",
    "       WHERE\n",
    "            P.rank = 1\n",
    "       ''')\n",
    ")\n",
    "(\n",
    "productsSilver\n",
    "    .write\n",
    "    .format(\"delta\")\n",
    "    .mode(\"overwrite\")\n",
    "    .save(f\"{pathSilver}/products\")\n",
    ")\n",
    "\n",
    "# Sellers\n",
    "sellersSilver = (\n",
    "    spark.sql(f'''\n",
    "       SELECT\n",
    "            sellerId,\n",
    "            sellerCodePrefix,\n",
    "            sellerCity,\n",
    "            sellerState,\n",
    "            CAST(DataRawLoad AS TIMESTAMP) AS DataRawLoad\n",
    "       FROM\n",
    "          (\n",
    "            SELECT \n",
    "                DENSE_RANK() OVER(ORDER BY DataRawLoad DESC) AS rank, * \n",
    "            FROM delta.`{pathBronze}/sellers`\n",
    "          ) AS T\n",
    "       WHERE\n",
    "            T.rank = 1\n",
    "       ''')\n",
    ")\n",
    "(\n",
    "sellersSilver\n",
    "    .write\n",
    "    .format(\"delta\")\n",
    "    .mode(\"overwrite\")\n",
    "    .save(f\"{pathSilver}/sellers\")\n",
    ")\n",
    "\n",
    "# Category\n",
    "categorySilver = (\n",
    "    spark.sql(f'''\n",
    "       SELECT\n",
    "            productCategory,\n",
    "            productCategoryNameEnglish,\n",
    "            CAST(DataRawLoad AS TIMESTAMP) AS DataRawLoad\n",
    "       FROM\n",
    "          (\n",
    "            SELECT \n",
    "                dense_rank() over(order by DataRawLoad desc) as rank, * \n",
    "            FROM delta.`{pathBronze}/category`\n",
    "          ) AS C\n",
    "       WHERE\n",
    "            C.rank = 1\n",
    "        ''')\n",
    ")\n",
    "(\n",
    "categorySilver\n",
    "    .write\n",
    "    .format(\"delta\")\n",
    "    .mode(\"overwrite\")\n",
    "    .save(f\"{pathSilver}/category\")\n",
    ")"
   ]
  },
  {
   "cell_type": "code",
   "execution_count": 0,
   "metadata": {
    "application/vnd.databricks.v1+cell": {
     "cellMetadata": {
      "byteLimit": 2048000,
      "implicitDf": true,
      "rowLimit": 10000
     },
     "inputWidgets": {},
     "nuid": "73c1f7eb-fcea-4315-9efd-24b357513b4e",
     "showTitle": false,
     "title": ""
    }
   },
   "outputs": [
    {
     "output_type": "display_data",
     "data": {
      "text/html": [
       "<style scoped>\n",
       "  .table-result-container {\n",
       "    max-height: 300px;\n",
       "    overflow: auto;\n",
       "  }\n",
       "  table, th, td {\n",
       "    border: 1px solid black;\n",
       "    border-collapse: collapse;\n",
       "  }\n",
       "  th, td {\n",
       "    padding: 5px;\n",
       "  }\n",
       "  th {\n",
       "    text-align: left;\n",
       "  }\n",
       "</style><div class='table-result-container'><table class='table-result'><thead style='background-color: white'><tr><th>num_affected_rows</th><th>num_inserted_rows</th></tr></thead><tbody></tbody></table></div>"
      ]
     },
     "metadata": {
      "application/vnd.databricks.v1+output": {
       "addedWidgets": {},
       "aggData": [],
       "aggError": "",
       "aggOverflow": false,
       "aggSchema": [],
       "aggSeriesLimitReached": false,
       "aggType": "",
       "arguments": {},
       "columnCustomDisplayInfos": {},
       "data": [],
       "datasetInfos": [],
       "dbfsResultPath": null,
       "isJsonSchema": true,
       "metadata": {},
       "overflow": false,
       "plotOptions": {
        "customPlotOptions": {},
        "displayType": "table",
        "pivotAggregation": null,
        "pivotColumns": null,
        "xColumns": null,
        "yColumns": null
       },
       "removedWidgets": [],
       "schema": [
        {
         "metadata": "{}",
         "name": "num_affected_rows",
         "type": "\"long\""
        },
        {
         "metadata": "{}",
         "name": "num_inserted_rows",
         "type": "\"long\""
        }
       ],
       "type": "table"
      }
     },
     "output_type": "display_data"
    }
   ],
   "source": [
    "%sql\n",
    "\n",
    "-- Criando a camada Gold, gerando uma tabela juntando todos os dados\n",
    "\n",
    "CREATE OR REPLACE TABLE delta.`dbfs:/FileStore/project/olist/gold/sales` \n",
    "USING DELTA PARTITIONED BY (estadoCliente) \n",
    "(\n",
    "  SELECT\n",
    "    CASE\n",
    "      WHEN orders.orderStatus = 'shipped' THEN 'enviado'\n",
    "      WHEN orders.orderStatus = 'canceled' THEN 'cancelado'\n",
    "      WHEN orders.orderStatus = 'invoiced' THEN 'faturado'\n",
    "      WHEN orders.orderStatus = 'created' THEN 'criado'\n",
    "      WHEN orders.orderStatus = 'delivered' THEN 'entregue'\n",
    "      WHEN orders.orderStatus = 'unavailable' THEN 'indisponível'\n",
    "      WHEN orders.orderStatus = 'processing' THEN 'em processamento'\n",
    "      WHEN orders.orderStatus = 'approved' THEN 'aprovado'\n",
    "    END AS statusDoPedido,\n",
    "    orders.orderPurchaseTimestamp AS horaCompraPedido,\n",
    "    orders.orderApprovedAt AS horaPedidoAprovado,\n",
    "    orders.orderEstimatedDeliveryDate AS dataEstimadaEntrega,\n",
    "    DATEDIFF(\n",
    "      orders.orderEstimatedDeliveryDate,\n",
    "      orders.orderApprovedAt\n",
    "    ) AS dataEntregaEmDias,\n",
    "    order_reviews.reviewScore AS notaProduto,\n",
    "    order_reviews.reviewAnswerTimestamp AS dataComentarioSobreProduto,\n",
    "    CASE\n",
    "      WHEN order_payments.paymentType = 'credit_card' THEN 'cartao_de_credito'\n",
    "      WHEN order_payments.paymentType = 'boleto' THEN 'boleto'\n",
    "      WHEN order_payments.paymentType = 'not_defined' THEN 'não_definido'\n",
    "      WHEN order_payments.paymentType = 'voucher' THEN 'voucher'\n",
    "      WHEN order_payments.paymentType = 'debit_card' THEN 'cartao_de_debito'\n",
    "    END AS meioDePagamento,\n",
    "    order_payments.paymentInstallments AS parcelamento,\n",
    "    order_payments.paymentValue AS valorPago,\n",
    "    customers.customerCity AS cidadeCliente,\n",
    "    customers.customerState AS estadoCliente\n",
    "  FROM\n",
    "    delta.`dbfs:/FileStore/project/olist/silver/orders` orders\n",
    "    LEFT JOIN delta.`dbfs:/FileStore/project/olist/silver/order_payments` \n",
    "        order_payments ON order_payments.orderId = orders.orderId\n",
    "    LEFT JOIN delta.`dbfs:/FileStore/project/olist/silver/order_reviews` \n",
    "        order_reviews ON order_reviews.orderId = orders.orderId\n",
    "    LEFT JOIN delta.`dbfs:/FileStore/project/olist/silver/customers` \n",
    "        customers ON customers.customerId = orders.customerId\n",
    ")"
   ]
  },
  {
   "cell_type": "markdown",
   "metadata": {
    "application/vnd.databricks.v1+cell": {
     "cellMetadata": {},
     "inputWidgets": {},
     "nuid": "eb12ae9d-ef11-4f53-8d9f-3640f5bd16e8",
     "showTitle": false,
     "title": ""
    }
   },
   "source": [
    "Visualizações"
   ]
  },
  {
   "cell_type": "code",
   "execution_count": 0,
   "metadata": {
    "application/vnd.databricks.v1+cell": {
     "cellMetadata": {
      "byteLimit": 2048000,
      "implicitDf": true,
      "rowLimit": 10000
     },
     "inputWidgets": {},
     "nuid": "b54b5b01-8c52-4107-a555-efbb9bbac491",
     "showTitle": false,
     "title": ""
    }
   },
   "outputs": [
    {
     "output_type": "display_data",
     "data": {
      "text/html": [
       "<style scoped>\n",
       "  .table-result-container {\n",
       "    max-height: 300px;\n",
       "    overflow: auto;\n",
       "  }\n",
       "  table, th, td {\n",
       "    border: 1px solid black;\n",
       "    border-collapse: collapse;\n",
       "  }\n",
       "  th, td {\n",
       "    padding: 5px;\n",
       "  }\n",
       "  th {\n",
       "    text-align: left;\n",
       "  }\n",
       "</style><div class='table-result-container'><table class='table-result'><thead style='background-color: white'><tr><th>estados</th><th>meio de pagamento</th><th>percentual</th></tr></thead><tbody><tr><td>MG</td><td>cartao_de_credito</td><td>8905</td></tr><tr><td>RJ</td><td>cartao_de_debito</td><td>181</td></tr><tr><td>MG</td><td>boleto</td><td>2260</td></tr><tr><td>RJ</td><td>cartao_de_credito</td><td>9934</td></tr><tr><td>SP</td><td>cartao_de_debito</td><td>740</td></tr><tr><td>SP</td><td>boleto</td><td>7990</td></tr><tr><td>MG</td><td>cartao_de_debito</td><td>139</td></tr><tr><td>RJ</td><td>boleto</td><td>2104</td></tr><tr><td>SP</td><td>cartao_de_credito</td><td>31413</td></tr><tr><td>RJ</td><td>voucher</td><td>862</td></tr><tr><td>MG</td><td>voucher</td><td>566</td></tr><tr><td>SP</td><td>voucher</td><td>2395</td></tr><tr><td>PR</td><td>boleto</td><td>1091</td></tr><tr><td>BA</td><td>cartao_de_debito</td><td>51</td></tr><tr><td>SC</td><td>cartao_de_credito</td><td>2660</td></tr><tr><td>SC</td><td>boleto</td><td>819</td></tr><tr><td>PR</td><td>cartao_de_debito</td><td>75</td></tr><tr><td>PR</td><td>voucher</td><td>271</td></tr><tr><td>BA</td><td>boleto</td><td>595</td></tr><tr><td>RS</td><td>cartao_de_debito</td><td>75</td></tr><tr><td>SC</td><td>cartao_de_debito</td><td>45</td></tr><tr><td>RS</td><td>voucher</td><td>241</td></tr><tr><td>RS</td><td>boleto</td><td>1340</td></tr><tr><td>PR</td><td>cartao_de_credito</td><td>3713</td></tr><tr><td>SC</td><td>voucher</td><td>153</td></tr><tr><td>BA</td><td>voucher</td><td>273</td></tr><tr><td>RS</td><td>cartao_de_credito</td><td>3923</td></tr><tr><td>BA</td><td>cartao_de_credito</td><td>2581</td></tr><tr><td>ES</td><td>voucher</td><td>103</td></tr><tr><td>ES</td><td>cartao_de_credito</td><td>1547</td></tr><tr><td>DF</td><td>cartao_de_credito</td><td>1675</td></tr><tr><td>PE</td><td>voucher</td><td>95</td></tr><tr><td>ES</td><td>boleto</td><td>401</td></tr><tr><td>PE</td><td>boleto</td><td>270</td></tr><tr><td>PE</td><td>cartao_de_debito</td><td>17</td></tr><tr><td>DF</td><td>boleto</td><td>381</td></tr><tr><td>ES</td><td>cartao_de_debito</td><td>26</td></tr><tr><td>DF</td><td>voucher</td><td>88</td></tr><tr><td>GO</td><td>cartao_de_credito</td><td>1493</td></tr><tr><td>DF</td><td>cartao_de_debito</td><td>17</td></tr><tr><td>GO</td><td>voucher</td><td>117</td></tr><tr><td>PE</td><td>cartao_de_credito</td><td>1296</td></tr><tr><td>GO</td><td>cartao_de_debito</td><td>22</td></tr><tr><td>GO</td><td>boleto</td><td>434</td></tr><tr><td>CE</td><td>voucher</td><td>78</td></tr><tr><td>MA</td><td>voucher</td><td>22</td></tr><tr><td>PA</td><td>cartao_de_credito</td><td>716</td></tr><tr><td>PA</td><td>boleto</td><td>207</td></tr><tr><td>CE</td><td>boleto</td><td>194</td></tr><tr><td>MT</td><td>cartao_de_credito</td><td>647</td></tr><tr><td>CE</td><td>cartao_de_credito</td><td>1051</td></tr><tr><td>MA</td><td>boleto</td><td>196</td></tr><tr><td>MT</td><td>voucher</td><td>26</td></tr><tr><td>MA</td><td>cartao_de_credito</td><td>516</td></tr><tr><td>MT</td><td>boleto</td><td>235</td></tr><tr><td>MT</td><td>cartao_de_debito</td><td>4</td></tr><tr><td>CE</td><td>cartao_de_debito</td><td>20</td></tr><tr><td>PA</td><td>voucher</td><td>49</td></tr><tr><td>PA</td><td>cartao_de_debito</td><td>15</td></tr><tr><td>MA</td><td>cartao_de_debito</td><td>4</td></tr><tr><td>MS</td><td>cartao_de_debito</td><td>11</td></tr><tr><td>PB</td><td>voucher</td><td>35</td></tr><tr><td>PI</td><td>cartao_de_debito</td><td>10</td></tr><tr><td>RN</td><td>cartao_de_debito</td><td>9</td></tr><tr><td>RN</td><td>boleto</td><td>78</td></tr><tr><td>MS</td><td>cartao_de_credito</td><td>514</td></tr><tr><td>PB</td><td>cartao_de_debito</td><td>13</td></tr><tr><td>PI</td><td>voucher</td><td>28</td></tr><tr><td>MS</td><td>voucher</td><td>32</td></tr><tr><td>PB</td><td>boleto</td><td>91</td></tr><tr><td>PB</td><td>cartao_de_credito</td><td>413</td></tr><tr><td>RN</td><td>voucher</td><td>39</td></tr><tr><td>PI</td><td>boleto</td><td>89</td></tr><tr><td>PI</td><td>cartao_de_credito</td><td>378</td></tr><tr><td>MS</td><td>boleto</td><td>177</td></tr><tr><td>RN</td><td>cartao_de_credito</td><td>387</td></tr><tr><td>RO</td><td>cartao_de_credito</td><td>180</td></tr><tr><td>TO</td><td>cartao_de_credito</td><td>192</td></tr><tr><td>SE</td><td>cartao_de_debito</td><td>5</td></tr><tr><td>TO</td><td>voucher</td><td>24</td></tr><tr><td>SE</td><td>cartao_de_credito</td><td>250</td></tr><tr><td>TO</td><td>boleto</td><td>75</td></tr><tr><td>RO</td><td>voucher</td><td>7</td></tr><tr><td>AL</td><td>boleto</td><td>65</td></tr><tr><td>TO</td><td>cartao_de_debito</td><td>4</td></tr><tr><td>SE</td><td>voucher</td><td>16</td></tr><tr><td>AL</td><td>cartao_de_credito</td><td>334</td></tr><tr><td>RO</td><td>cartao_de_debito</td><td>3</td></tr><tr><td>AL</td><td>cartao_de_debito</td><td>3</td></tr><tr><td>AL</td><td>voucher</td><td>13</td></tr><tr><td>SE</td><td>boleto</td><td>73</td></tr><tr><td>RO</td><td>boleto</td><td>61</td></tr><tr><td>AM</td><td>cartao_de_credito</td><td>122</td></tr><tr><td>AC</td><td>cartao_de_credito</td><td>60</td></tr><tr><td>RR</td><td>cartao_de_credito</td><td>29</td></tr><tr><td>AP</td><td>voucher</td><td>3</td></tr><tr><td>AM</td><td>voucher</td><td>7</td></tr><tr><td>AP</td><td>boleto</td><td>19</td></tr><tr><td>AC</td><td>cartao_de_debito</td><td>2</td></tr><tr><td>RR</td><td>boleto</td><td>12</td></tr><tr><td>AM</td><td>boleto</td><td>21</td></tr><tr><td>AM</td><td>cartao_de_debito</td><td>2</td></tr><tr><td>AC</td><td>voucher</td><td>5</td></tr><tr><td>AP</td><td>cartao_de_credito</td><td>47</td></tr><tr><td>AC</td><td>boleto</td><td>16</td></tr></tbody></table></div>"
      ]
     },
     "metadata": {
      "application/vnd.databricks.v1+output": {
       "addedWidgets": {},
       "aggData": [],
       "aggError": "",
       "aggOverflow": false,
       "aggSchema": [],
       "aggSeriesLimitReached": false,
       "aggType": "",
       "arguments": {},
       "columnCustomDisplayInfos": {},
       "data": [
        [
         "MG",
         "cartao_de_credito",
         8905
        ],
        [
         "RJ",
         "cartao_de_debito",
         181
        ],
        [
         "MG",
         "boleto",
         2260
        ],
        [
         "RJ",
         "cartao_de_credito",
         9934
        ],
        [
         "SP",
         "cartao_de_debito",
         740
        ],
        [
         "SP",
         "boleto",
         7990
        ],
        [
         "MG",
         "cartao_de_debito",
         139
        ],
        [
         "RJ",
         "boleto",
         2104
        ],
        [
         "SP",
         "cartao_de_credito",
         31413
        ],
        [
         "RJ",
         "voucher",
         862
        ],
        [
         "MG",
         "voucher",
         566
        ],
        [
         "SP",
         "voucher",
         2395
        ],
        [
         "PR",
         "boleto",
         1091
        ],
        [
         "BA",
         "cartao_de_debito",
         51
        ],
        [
         "SC",
         "cartao_de_credito",
         2660
        ],
        [
         "SC",
         "boleto",
         819
        ],
        [
         "PR",
         "cartao_de_debito",
         75
        ],
        [
         "PR",
         "voucher",
         271
        ],
        [
         "BA",
         "boleto",
         595
        ],
        [
         "RS",
         "cartao_de_debito",
         75
        ],
        [
         "SC",
         "cartao_de_debito",
         45
        ],
        [
         "RS",
         "voucher",
         241
        ],
        [
         "RS",
         "boleto",
         1340
        ],
        [
         "PR",
         "cartao_de_credito",
         3713
        ],
        [
         "SC",
         "voucher",
         153
        ],
        [
         "BA",
         "voucher",
         273
        ],
        [
         "RS",
         "cartao_de_credito",
         3923
        ],
        [
         "BA",
         "cartao_de_credito",
         2581
        ],
        [
         "ES",
         "voucher",
         103
        ],
        [
         "ES",
         "cartao_de_credito",
         1547
        ],
        [
         "DF",
         "cartao_de_credito",
         1675
        ],
        [
         "PE",
         "voucher",
         95
        ],
        [
         "ES",
         "boleto",
         401
        ],
        [
         "PE",
         "boleto",
         270
        ],
        [
         "PE",
         "cartao_de_debito",
         17
        ],
        [
         "DF",
         "boleto",
         381
        ],
        [
         "ES",
         "cartao_de_debito",
         26
        ],
        [
         "DF",
         "voucher",
         88
        ],
        [
         "GO",
         "cartao_de_credito",
         1493
        ],
        [
         "DF",
         "cartao_de_debito",
         17
        ],
        [
         "GO",
         "voucher",
         117
        ],
        [
         "PE",
         "cartao_de_credito",
         1296
        ],
        [
         "GO",
         "cartao_de_debito",
         22
        ],
        [
         "GO",
         "boleto",
         434
        ],
        [
         "CE",
         "voucher",
         78
        ],
        [
         "MA",
         "voucher",
         22
        ],
        [
         "PA",
         "cartao_de_credito",
         716
        ],
        [
         "PA",
         "boleto",
         207
        ],
        [
         "CE",
         "boleto",
         194
        ],
        [
         "MT",
         "cartao_de_credito",
         647
        ],
        [
         "CE",
         "cartao_de_credito",
         1051
        ],
        [
         "MA",
         "boleto",
         196
        ],
        [
         "MT",
         "voucher",
         26
        ],
        [
         "MA",
         "cartao_de_credito",
         516
        ],
        [
         "MT",
         "boleto",
         235
        ],
        [
         "MT",
         "cartao_de_debito",
         4
        ],
        [
         "CE",
         "cartao_de_debito",
         20
        ],
        [
         "PA",
         "voucher",
         49
        ],
        [
         "PA",
         "cartao_de_debito",
         15
        ],
        [
         "MA",
         "cartao_de_debito",
         4
        ],
        [
         "MS",
         "cartao_de_debito",
         11
        ],
        [
         "PB",
         "voucher",
         35
        ],
        [
         "PI",
         "cartao_de_debito",
         10
        ],
        [
         "RN",
         "cartao_de_debito",
         9
        ],
        [
         "RN",
         "boleto",
         78
        ],
        [
         "MS",
         "cartao_de_credito",
         514
        ],
        [
         "PB",
         "cartao_de_debito",
         13
        ],
        [
         "PI",
         "voucher",
         28
        ],
        [
         "MS",
         "voucher",
         32
        ],
        [
         "PB",
         "boleto",
         91
        ],
        [
         "PB",
         "cartao_de_credito",
         413
        ],
        [
         "RN",
         "voucher",
         39
        ],
        [
         "PI",
         "boleto",
         89
        ],
        [
         "PI",
         "cartao_de_credito",
         378
        ],
        [
         "MS",
         "boleto",
         177
        ],
        [
         "RN",
         "cartao_de_credito",
         387
        ],
        [
         "RO",
         "cartao_de_credito",
         180
        ],
        [
         "TO",
         "cartao_de_credito",
         192
        ],
        [
         "SE",
         "cartao_de_debito",
         5
        ],
        [
         "TO",
         "voucher",
         24
        ],
        [
         "SE",
         "cartao_de_credito",
         250
        ],
        [
         "TO",
         "boleto",
         75
        ],
        [
         "RO",
         "voucher",
         7
        ],
        [
         "AL",
         "boleto",
         65
        ],
        [
         "TO",
         "cartao_de_debito",
         4
        ],
        [
         "SE",
         "voucher",
         16
        ],
        [
         "AL",
         "cartao_de_credito",
         334
        ],
        [
         "RO",
         "cartao_de_debito",
         3
        ],
        [
         "AL",
         "cartao_de_debito",
         3
        ],
        [
         "AL",
         "voucher",
         13
        ],
        [
         "SE",
         "boleto",
         73
        ],
        [
         "RO",
         "boleto",
         61
        ],
        [
         "AM",
         "cartao_de_credito",
         122
        ],
        [
         "AC",
         "cartao_de_credito",
         60
        ],
        [
         "RR",
         "cartao_de_credito",
         29
        ],
        [
         "AP",
         "voucher",
         3
        ],
        [
         "AM",
         "voucher",
         7
        ],
        [
         "AP",
         "boleto",
         19
        ],
        [
         "AC",
         "cartao_de_debito",
         2
        ],
        [
         "RR",
         "boleto",
         12
        ],
        [
         "AM",
         "boleto",
         21
        ],
        [
         "AM",
         "cartao_de_debito",
         2
        ],
        [
         "AC",
         "voucher",
         5
        ],
        [
         "AP",
         "cartao_de_credito",
         47
        ],
        [
         "AC",
         "boleto",
         16
        ]
       ],
       "datasetInfos": [],
       "dbfsResultPath": null,
       "isJsonSchema": true,
       "metadata": {},
       "overflow": false,
       "plotOptions": {
        "customPlotOptions": {},
        "displayType": "table",
        "pivotAggregation": null,
        "pivotColumns": null,
        "xColumns": null,
        "yColumns": null
       },
       "removedWidgets": [],
       "schema": [
        {
         "metadata": "{}",
         "name": "estados",
         "type": "\"string\""
        },
        {
         "metadata": "{}",
         "name": "meio de pagamento",
         "type": "\"string\""
        },
        {
         "metadata": "{}",
         "name": "percentual",
         "type": "\"long\""
        }
       ],
       "type": "table"
      }
     },
     "output_type": "display_data"
    }
   ],
   "source": [
    "%sql\n",
    "\n",
    "SELECT\n",
    "  estadoCliente AS estados,\n",
    "  meioDePagamento AS `meio de pagamento`,\n",
    "  count(*) AS `percentual`\n",
    "FROM\n",
    "  delta.`dbfs:/FileStore/project/olist/gold/sales`\n",
    "WHERE\n",
    "  meioDePagamento IS NOT NULL\n",
    "  AND YEAR(horaPedidoAprovado) IS NOT NULL\n",
    "  AND statusDoPedido = \"entregue\"\n",
    "GROUP BY\n",
    "  estadoCliente,\n",
    "  meioDePagamento"
   ]
  },
  {
   "cell_type": "code",
   "execution_count": 0,
   "metadata": {
    "application/vnd.databricks.v1+cell": {
     "cellMetadata": {
      "byteLimit": 2048000,
      "implicitDf": true,
      "rowLimit": 10000
     },
     "inputWidgets": {},
     "nuid": "76b22c16-2199-453f-8682-37d602a8026d",
     "showTitle": false,
     "title": ""
    }
   },
   "outputs": [
    {
     "output_type": "display_data",
     "data": {
      "text/html": [
       "<style scoped>\n",
       "  .table-result-container {\n",
       "    max-height: 300px;\n",
       "    overflow: auto;\n",
       "  }\n",
       "  table, th, td {\n",
       "    border: 1px solid black;\n",
       "    border-collapse: collapse;\n",
       "  }\n",
       "  th, td {\n",
       "    padding: 5px;\n",
       "  }\n",
       "  th {\n",
       "    text-align: left;\n",
       "  }\n",
       "</style><div class='table-result-container'><table class='table-result'><thead style='background-color: white'><tr><th>estados</th><th>média de dias para entrega de produto</th></tr></thead><tbody><tr><td>SP</td><td>19.0</td></tr><tr><td>MG</td><td>25.0</td></tr><tr><td>RJ</td><td>27.0</td></tr><tr><td>SC</td><td>26.0</td></tr><tr><td>RS</td><td>29.0</td></tr><tr><td>BA</td><td>29.0</td></tr><tr><td>PR</td><td>25.0</td></tr><tr><td>GO</td><td>27.0</td></tr><tr><td>ES</td><td>26.0</td></tr><tr><td>PE</td><td>31.0</td></tr><tr><td>DF</td><td>25.0</td></tr><tr><td>MT</td><td>32.0</td></tr><tr><td>PA</td><td>37.0</td></tr><tr><td>CE</td><td>31.0</td></tr><tr><td>MA</td><td>30.0</td></tr><tr><td>PI</td><td>30.0</td></tr><tr><td>PB</td><td>33.0</td></tr><tr><td>MS</td><td>26.0</td></tr><tr><td>RN</td><td>32.0</td></tr><tr><td>RO</td><td>39.0</td></tr><tr><td>TO</td><td>29.0</td></tr><tr><td>AL</td><td>33.0</td></tr><tr><td>SE</td><td>31.0</td></tr><tr><td>AM</td><td>45.0</td></tr><tr><td>RR</td><td>46.0</td></tr><tr><td>AC</td><td>41.0</td></tr><tr><td>AP</td><td>46.0</td></tr></tbody></table></div>"
      ]
     },
     "metadata": {
      "application/vnd.databricks.v1+output": {
       "addedWidgets": {},
       "aggData": [],
       "aggError": "",
       "aggOverflow": false,
       "aggSchema": [],
       "aggSeriesLimitReached": false,
       "aggType": "",
       "arguments": {},
       "columnCustomDisplayInfos": {},
       "data": [
        [
         "SP",
         19.0
        ],
        [
         "MG",
         25.0
        ],
        [
         "RJ",
         27.0
        ],
        [
         "SC",
         26.0
        ],
        [
         "RS",
         29.0
        ],
        [
         "BA",
         29.0
        ],
        [
         "PR",
         25.0
        ],
        [
         "GO",
         27.0
        ],
        [
         "ES",
         26.0
        ],
        [
         "PE",
         31.0
        ],
        [
         "DF",
         25.0
        ],
        [
         "MT",
         32.0
        ],
        [
         "PA",
         37.0
        ],
        [
         "CE",
         31.0
        ],
        [
         "MA",
         30.0
        ],
        [
         "PI",
         30.0
        ],
        [
         "PB",
         33.0
        ],
        [
         "MS",
         26.0
        ],
        [
         "RN",
         32.0
        ],
        [
         "RO",
         39.0
        ],
        [
         "TO",
         29.0
        ],
        [
         "AL",
         33.0
        ],
        [
         "SE",
         31.0
        ],
        [
         "AM",
         45.0
        ],
        [
         "RR",
         46.0
        ],
        [
         "AC",
         41.0
        ],
        [
         "AP",
         46.0
        ]
       ],
       "datasetInfos": [],
       "dbfsResultPath": null,
       "isJsonSchema": true,
       "metadata": {},
       "overflow": false,
       "plotOptions": {
        "customPlotOptions": {},
        "displayType": "table",
        "pivotAggregation": null,
        "pivotColumns": null,
        "xColumns": null,
        "yColumns": null
       },
       "removedWidgets": [],
       "schema": [
        {
         "metadata": "{}",
         "name": "estados",
         "type": "\"string\""
        },
        {
         "metadata": "{}",
         "name": "média de dias para entrega de produto",
         "type": "\"double\""
        }
       ],
       "type": "table"
      }
     },
     "output_type": "display_data"
    }
   ],
   "source": [
    "%sql \n",
    "\n",
    "SELECT\n",
    "  T.estadoCliente AS estados,\n",
    "  T.diasEntrega AS `média de dias para entrega de produto`\n",
    "FROM\n",
    "  (\n",
    "    SELECT\n",
    "      estadoCliente,\n",
    "      ROUND(AVG(dataEntregaEmDias), 0) AS DiasEntrega\n",
    "    FROM\n",
    "      delta.`dbfs:/FileStore/project/olist/gold/sales`\n",
    "    WHERE\n",
    "      meioDePagamento IS NOT NULL\n",
    "      AND YEAR(horaPedidoAprovado) IS NOT NULL\n",
    "      AND statusDoPedido <> \"cancelado\"\n",
    "    GROUP BY\n",
    "      estadoCliente\n",
    "  ) AS T"
   ]
  },
  {
   "cell_type": "code",
   "execution_count": 0,
   "metadata": {
    "application/vnd.databricks.v1+cell": {
     "cellMetadata": {
      "byteLimit": 2048000,
      "implicitDf": true,
      "rowLimit": 10000
     },
     "inputWidgets": {},
     "nuid": "5ce509d9-da45-4f0d-b015-b980d1043d20",
     "showTitle": false,
     "title": ""
    }
   },
   "outputs": [
    {
     "output_type": "display_data",
     "data": {
      "text/html": [
       "<style scoped>\n",
       "  .table-result-container {\n",
       "    max-height: 300px;\n",
       "    overflow: auto;\n",
       "  }\n",
       "  table, th, td {\n",
       "    border: 1px solid black;\n",
       "    border-collapse: collapse;\n",
       "  }\n",
       "  th, td {\n",
       "    padding: 5px;\n",
       "  }\n",
       "  th {\n",
       "    text-align: left;\n",
       "  }\n",
       "</style><div class='table-result-container'><table class='table-result'><thead style='background-color: white'><tr><th>Estado</th><th>Ano</th><th>Numero de Vendas</th></tr></thead><tbody><tr><td>SP</td><td>2018</td><td>24224</td></tr><tr><td>RJ</td><td>2018</td><td>6687</td></tr><tr><td>MG</td><td>2018</td><td>6320</td></tr><tr><td>PR</td><td>2018</td><td>2835</td></tr><tr><td>RS</td><td>2018</td><td>2850</td></tr><tr><td>BA</td><td>2018</td><td>1843</td></tr><tr><td>SC</td><td>2018</td><td>1948</td></tr><tr><td>DF</td><td>2018</td><td>1234</td></tr><tr><td>PE</td><td>2018</td><td>883</td></tr><tr><td>GO</td><td>2018</td><td>1089</td></tr><tr><td>ES</td><td>2018</td><td>1082</td></tr><tr><td>MT</td><td>2018</td><td>491</td></tr><tr><td>CE</td><td>2018</td><td>668</td></tr><tr><td>MA</td><td>2018</td><td>356</td></tr><tr><td>PA</td><td>2018</td><td>472</td></tr><tr><td>MS</td><td>2018</td><td>429</td></tr><tr><td>PI</td><td>2018</td><td>270</td></tr><tr><td>PB</td><td>2018</td><td>288</td></tr><tr><td>RN</td><td>2018</td><td>261</td></tr><tr><td>SE</td><td>2018</td><td>149</td></tr><tr><td>TO</td><td>2018</td><td>160</td></tr><tr><td>AL</td><td>2018</td><td>204</td></tr><tr><td>RO</td><td>2018</td><td>112</td></tr><tr><td>AP</td><td>2018</td><td>40</td></tr><tr><td>RR</td><td>2018</td><td>22</td></tr><tr><td>AM</td><td>2018</td><td>74</td></tr><tr><td>AC</td><td>2018</td><td>28</td></tr></tbody></table></div>"
      ]
     },
     "metadata": {
      "application/vnd.databricks.v1+output": {
       "addedWidgets": {},
       "aggData": [],
       "aggError": "",
       "aggOverflow": false,
       "aggSchema": [],
       "aggSeriesLimitReached": false,
       "aggType": "",
       "arguments": {},
       "columnCustomDisplayInfos": {},
       "data": [
        [
         "SP",
         2018,
         24224
        ],
        [
         "RJ",
         2018,
         6687
        ],
        [
         "MG",
         2018,
         6320
        ],
        [
         "PR",
         2018,
         2835
        ],
        [
         "RS",
         2018,
         2850
        ],
        [
         "BA",
         2018,
         1843
        ],
        [
         "SC",
         2018,
         1948
        ],
        [
         "DF",
         2018,
         1234
        ],
        [
         "PE",
         2018,
         883
        ],
        [
         "GO",
         2018,
         1089
        ],
        [
         "ES",
         2018,
         1082
        ],
        [
         "MT",
         2018,
         491
        ],
        [
         "CE",
         2018,
         668
        ],
        [
         "MA",
         2018,
         356
        ],
        [
         "PA",
         2018,
         472
        ],
        [
         "MS",
         2018,
         429
        ],
        [
         "PI",
         2018,
         270
        ],
        [
         "PB",
         2018,
         288
        ],
        [
         "RN",
         2018,
         261
        ],
        [
         "SE",
         2018,
         149
        ],
        [
         "TO",
         2018,
         160
        ],
        [
         "AL",
         2018,
         204
        ],
        [
         "RO",
         2018,
         112
        ],
        [
         "AP",
         2018,
         40
        ],
        [
         "RR",
         2018,
         22
        ],
        [
         "AM",
         2018,
         74
        ],
        [
         "AC",
         2018,
         28
        ]
       ],
       "datasetInfos": [],
       "dbfsResultPath": null,
       "isJsonSchema": true,
       "metadata": {},
       "overflow": false,
       "plotOptions": {
        "customPlotOptions": {},
        "displayType": "table",
        "pivotAggregation": null,
        "pivotColumns": null,
        "xColumns": null,
        "yColumns": null
       },
       "removedWidgets": [],
       "schema": [
        {
         "metadata": "{}",
         "name": "Estado",
         "type": "\"string\""
        },
        {
         "metadata": "{}",
         "name": "Ano",
         "type": "\"integer\""
        },
        {
         "metadata": "{}",
         "name": "Numero de Vendas",
         "type": "\"long\""
        }
       ],
       "type": "table"
      }
     },
     "output_type": "display_data"
    }
   ],
   "source": [
    "%sql\n",
    "SELECT\n",
    "    estadoCliente as `Estado`,\n",
    "    Year(horaPedidoAprovado) as `Ano`,\n",
    "    Count(*) as `Numero de Vendas`\n",
    "FROM\n",
    "    delta.`dbfs:/FileStore/project/olist/gold/sales`\n",
    "WHERE\n",
    "    statusDoPedido = \"entregue\"\n",
    "And\n",
    "    Year(horaPedidoAprovado) = \"2018\"\n",
    "GROUP BY\n",
    "    Estado, Ano\n"
   ]
  },
  {
   "cell_type": "code",
   "execution_count": 0,
   "metadata": {
    "application/vnd.databricks.v1+cell": {
     "cellMetadata": {
      "byteLimit": 2048000,
      "implicitDf": true,
      "rowLimit": 10000
     },
     "inputWidgets": {},
     "nuid": "a54c3350-3232-4234-872a-f1aa543bc104",
     "showTitle": false,
     "title": ""
    }
   },
   "outputs": [
    {
     "output_type": "display_data",
     "data": {
      "text/html": [
       "<style scoped>\n",
       "  .table-result-container {\n",
       "    max-height: 300px;\n",
       "    overflow: auto;\n",
       "  }\n",
       "  table, th, td {\n",
       "    border: 1px solid black;\n",
       "    border-collapse: collapse;\n",
       "  }\n",
       "  th, td {\n",
       "    padding: 5px;\n",
       "  }\n",
       "  th {\n",
       "    text-align: left;\n",
       "  }\n",
       "</style><div class='table-result-container'><table class='table-result'><thead style='background-color: white'><tr><th>Ticket Médio</th><th>month(horaPedidoAprovado)</th></tr></thead><tbody><tr><td>146.96</td><td>12</td></tr><tr><td>158.2</td><td>1</td></tr><tr><td>148.18</td><td>6</td></tr><tr><td>151.59</td><td>3</td></tr><tr><td>149.5</td><td>5</td></tr><tr><td>157.09</td><td>9</td></tr><tr><td>160.77</td><td>4</td></tr><tr><td>146.23</td><td>8</td></tr><tr><td>136.16</td><td>7</td></tr><tr><td>162.0</td><td>10</td></tr><tr><td>152.24</td><td>11</td></tr><tr><td>156.18</td><td>2</td></tr></tbody></table></div>"
      ]
     },
     "metadata": {
      "application/vnd.databricks.v1+output": {
       "addedWidgets": {},
       "aggData": [],
       "aggError": "",
       "aggOverflow": false,
       "aggSchema": [],
       "aggSeriesLimitReached": false,
       "aggType": "",
       "arguments": {},
       "columnCustomDisplayInfos": {},
       "data": [
        [
         146.96,
         12
        ],
        [
         158.2,
         1
        ],
        [
         148.18,
         6
        ],
        [
         151.59,
         3
        ],
        [
         149.5,
         5
        ],
        [
         157.09,
         9
        ],
        [
         160.77,
         4
        ],
        [
         146.23,
         8
        ],
        [
         136.16,
         7
        ],
        [
         162.0,
         10
        ],
        [
         152.24,
         11
        ],
        [
         156.18,
         2
        ]
       ],
       "datasetInfos": [],
       "dbfsResultPath": null,
       "isJsonSchema": true,
       "metadata": {},
       "overflow": false,
       "plotOptions": {
        "customPlotOptions": {},
        "displayType": "table",
        "pivotAggregation": null,
        "pivotColumns": null,
        "xColumns": null,
        "yColumns": null
       },
       "removedWidgets": [],
       "schema": [
        {
         "metadata": "{}",
         "name": "Ticket Médio",
         "type": "\"double\""
        },
        {
         "metadata": "{\"__autoGeneratedAlias\":\"true\"}",
         "name": "month(horaPedidoAprovado)",
         "type": "\"integer\""
        }
       ],
       "type": "table"
      }
     },
     "output_type": "display_data"
    }
   ],
   "source": [
    "%sql\n",
    "\n",
    "SELECT\n",
    "  ROUND(SUM(valorPago)/Count(*), 2) as `Ticket Médio`,\n",
    "  Month(horaPedidoAprovado)\n",
    "FROM\n",
    "  delta.`dbfs:/FileStore/project/olist/gold/sales`\n",
    "WHERE\n",
    "  statusDoPedido = \"entregue\" AND Year(horaPedidoAprovado) = \"2017\"\n",
    "GROUP BY\n",
    "  Month(horaPedidoAprovado)"
   ]
  },
  {
   "cell_type": "markdown",
   "metadata": {
    "application/vnd.databricks.v1+cell": {
     "cellMetadata": {},
     "inputWidgets": {},
     "nuid": "dad32a08-70e9-4aca-96c5-149147ec836e",
     "showTitle": false,
     "title": ""
    }
   },
   "source": [
    "Distribuição de Meios de Pagamento por Estado"
   ]
  },
  {
   "cell_type": "code",
   "execution_count": 0,
   "metadata": {
    "application/vnd.databricks.v1+cell": {
     "cellMetadata": {
      "byteLimit": 2048000,
      "rowLimit": 10000
     },
     "inputWidgets": {},
     "nuid": "8c594f64-1cbf-461d-9b6c-5287110117ed",
     "showTitle": false,
     "title": ""
    }
   },
   "outputs": [
    {
     "output_type": "display_data",
     "data": {
      "image/png": "[encoded data removed]"
     },
     "metadata": {
      "application/vnd.databricks.v1+output": {
       "addedWidgets": {},
       "arguments": {},
       "data": "data:image/png;base64,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\n",
       "datasetInfos": [],
       "metadata": {},
       "removedWidgets": [],
       "type": "image"
      }
     },
     "output_type": "display_data"
    }
   ],
   "source": [
    "# Executando a consulta SQL\n",
    "df = spark.sql(\"\"\"\n",
    "SELECT\n",
    "  estadoCliente AS estados,\n",
    "  meioDePagamento AS `meio de pagamento`,\n",
    "  count(*) AS `percentual`\n",
    "FROM\n",
    "  delta.`dbfs:/FileStore/project/olist/gold/sales`\n",
    "WHERE\n",
    "  meioDePagamento IS NOT NULL\n",
    "  AND YEAR(horaPedidoAprovado) IS NOT NULL\n",
    "  AND statusDoPedido = \"entregue\"\n",
    "GROUP BY\n",
    "  estadoCliente,\n",
    "  meioDePagamento\n",
    "\"\"\")\n",
    "\n",
    "# Convertendo para Pandas para facilitar a visualização\n",
    "df_pandas = df.toPandas()\n",
    "\n",
    "# Criar gráfico de barras empilhadas usando Matplotlib\n",
    "import matplotlib.pyplot as plt\n",
    "import seaborn as sns\n",
    "\n",
    "pivot_data = df_pandas.pivot_table(index='estados', columns='meio de pagamento', values='percentual')\n",
    "pivot_data.plot(kind='bar', stacked=True, figsize=(10,6))\n",
    "\n",
    "plt.title('Distribuição de Meios de Pagamento por Estado')\n",
    "plt.ylabel('Quantidade')\n",
    "plt.xlabel('Estado')\n",
    "plt.legend(title='Meio de Pagamento')\n",
    "plt.show()\n"
   ]
  },
  {
   "cell_type": "markdown",
   "metadata": {
    "application/vnd.databricks.v1+cell": {
     "cellMetadata": {},
     "inputWidgets": {},
     "nuid": "0f96c80a-f826-4792-a191-914f97ff5c87",
     "showTitle": false,
     "title": ""
    }
   },
   "source": [
    "Média de Dias para Entrega por Estado"
   ]
  },
  {
   "cell_type": "code",
   "execution_count": 0,
   "metadata": {
    "application/vnd.databricks.v1+cell": {
     "cellMetadata": {
      "byteLimit": 2048000,
      "rowLimit": 10000
     },
     "inputWidgets": {},
     "nuid": "e63d7c12-605c-448c-877c-b3f5b98be64d",
     "showTitle": false,
     "title": ""
    }
   },
   "outputs": [
    {
     "output_type": "display_data",
     "data": {
      "image/png": "[encoded data removed]"
     },
     "metadata": {
      "application/vnd.databricks.v1+output": {
       "addedWidgets": {},
       "arguments": {},
       "data": "data:image/png;base64,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\n",
       "datasetInfos": [],
       "metadata": {},
       "removedWidgets": [],
       "type": "image"
      }
     },
     "output_type": "display_data"
    }
   ],
   "source": [
    "# Executando a consulta SQL\n",
    "df = spark.sql(\"\"\"\n",
    "SELECT\n",
    "  T.estadoCliente AS estados,\n",
    "  T.diasEntrega AS `média de dias para entrega de produto`\n",
    "FROM\n",
    "  (\n",
    "    SELECT\n",
    "      estadoCliente,\n",
    "      ROUND(AVG(dataEntregaEmDias), 0) AS DiasEntrega\n",
    "    FROM\n",
    "      delta.`dbfs:/FileStore/project/olist/gold/sales`\n",
    "    WHERE\n",
    "      meioDePagamento IS NOT NULL\n",
    "      AND YEAR(horaPedidoAprovado) IS NOT NULL\n",
    "      AND statusDoPedido <> \"cancelado\"\n",
    "    GROUP BY\n",
    "      estadoCliente\n",
    "  ) AS T\n",
    "\"\"\")\n",
    "\n",
    "# Convertendo para Pandas para gerar o gráfico\n",
    "df_pandas = df.toPandas()\n",
    "\n",
    "# Criando gráfico de barras\n",
    "df_pandas.plot(kind='bar', x='estados', y='média de dias para entrega de produto', legend=False, figsize=(10,6))\n",
    "\n",
    "plt.title('Média de Dias para Entrega por Estado')\n",
    "plt.ylabel('Dias')\n",
    "plt.xlabel('Estado')\n",
    "plt.show()\n"
   ]
  },
  {
   "cell_type": "markdown",
   "metadata": {
    "application/vnd.databricks.v1+cell": {
     "cellMetadata": {},
     "inputWidgets": {},
     "nuid": "90b14397-dd0b-4cac-b3a0-fc657e65861e",
     "showTitle": false,
     "title": ""
    }
   },
   "source": [
    "Número de Vendas por Estado em 2018"
   ]
  },
  {
   "cell_type": "code",
   "execution_count": 0,
   "metadata": {
    "application/vnd.databricks.v1+cell": {
     "cellMetadata": {
      "byteLimit": 2048000,
      "rowLimit": 10000
     },
     "inputWidgets": {},
     "nuid": "4dfb109a-cedf-4e69-b1d2-54388ff28348",
     "showTitle": false,
     "title": ""
    }
   },
   "outputs": [
    {
     "output_type": "display_data",
     "data": {
      "image/png": "[encoded data removed]"
     },
     "metadata": {
      "application/vnd.databricks.v1+output": {
       "addedWidgets": {},
       "arguments": {},
       "data": "data:image/png;base64,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\n",
       "datasetInfos": [],
       "metadata": {},
       "removedWidgets": [],
       "type": "image"
      }
     },
     "output_type": "display_data"
    }
   ],
   "source": [
    "# Executando a consulta SQL\n",
    "df = spark.sql(\"\"\"\n",
    "SELECT\n",
    "  estadoCliente as `Estado`,\n",
    "  Year(horaPedidoAprovado) as `Ano`,\n",
    "  Count(*) as `Numero de Vendas`\n",
    "FROM\n",
    "  delta.`dbfs:/FileStore/project/olist/gold/sales`\n",
    "WHERE\n",
    "  statusDoPedido = \"entregue\"\n",
    "AND\n",
    "  Year(horaPedidoAprovado) = \"2018\"\n",
    "GROUP BY\n",
    "  Estado, Ano\n",
    "\"\"\")\n",
    "\n",
    "# Convertendo para Pandas\n",
    "df_pandas = df.toPandas()\n",
    "\n",
    "# Criando gráfico de barras\n",
    "df_pandas.plot(kind='bar', x='Estado', y='Numero de Vendas', legend=False, figsize=(10,6))\n",
    "\n",
    "plt.title('Número de Vendas por Estado em 2018')\n",
    "plt.ylabel('Vendas')\n",
    "plt.xlabel('Estado')\n",
    "plt.show()\n"
   ]
  },
  {
   "cell_type": "markdown",
   "metadata": {
    "application/vnd.databricks.v1+cell": {
     "cellMetadata": {},
     "inputWidgets": {},
     "nuid": "22cab3d3-8338-45b7-b65b-09a5595a78c4",
     "showTitle": false,
     "title": ""
    }
   },
   "source": [
    "Ticket Médio Mensal em 2017"
   ]
  },
  {
   "cell_type": "code",
   "execution_count": 0,
   "metadata": {
    "application/vnd.databricks.v1+cell": {
     "cellMetadata": {
      "byteLimit": 2048000,
      "rowLimit": 10000
     },
     "inputWidgets": {},
     "nuid": "6041489e-b035-4e89-9f1c-dc20d9afc91a",
     "showTitle": false,
     "title": ""
    }
   },
   "outputs": [
    {
     "output_type": "display_data",
     "data": {
      "image/png": "[encoded data removed]"
     },
     "metadata": {
      "application/vnd.databricks.v1+output": {
       "addedWidgets": {},
       "arguments": {},
       "data": "data:image/png;base64,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\n",
       "datasetInfos": [],
       "metadata": {},
       "removedWidgets": [],
       "type": "image"
      }
     },
     "output_type": "display_data"
    }
   ],
   "source": [
    "# Executando a consulta SQL\n",
    "df = spark.sql(\"\"\"\n",
    "SELECT\n",
    "  ROUND(SUM(valorPago)/Count(*), 2) as `Ticket Médio`,\n",
    "  Month(horaPedidoAprovado) AS `Mês`\n",
    "FROM\n",
    "  delta.`dbfs:/FileStore/project/olist/gold/sales`\n",
    "WHERE\n",
    "  statusDoPedido = \"entregue\" AND Year(horaPedidoAprovado) = \"2017\"\n",
    "GROUP BY\n",
    "  Month(horaPedidoAprovado)\n",
    "\"\"\")\n",
    "\n",
    "# Convertendo para Pandas\n",
    "df_pandas = df.toPandas()\n",
    "\n",
    "# Criando gráfico de linhas\n",
    "df_pandas.plot(kind='line', x='Mês', y='Ticket Médio', figsize=(10,6))\n",
    "\n",
    "plt.title('Ticket Médio Mensal em 2017')\n",
    "plt.ylabel('Ticket Médio')\n",
    "plt.xlabel('Mês')\n",
    "plt.show()\n"
   ]
  }
 ],
 "metadata": {
  "application/vnd.databricks.v1+notebook": {
   "dashboards": [],
   "environmentMetadata": null,
   "language": "python",
   "notebookMetadata": {
    "mostRecentlyExecutedCommandWithImplicitDF": {
     "commandId": 2550294927398270,
     "dataframes": [
      "_sqldf"
     ]
    },
    "pythonIndentUnit": 2
   },
   "notebookName": "Ingestão de Dados no Databricks Bronze, Silver e Gold",
   "widgets": {}
  }
 },
 "nbformat": 4,
 "nbformat_minor": 0
}
